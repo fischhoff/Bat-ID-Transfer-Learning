{
 "cells": [
  {
   "cell_type": "code",
   "execution_count": 1,
   "metadata": {},
   "outputs": [],
   "source": [
    "import numpy as np\n",
    "import pandas as pd\n",
    "import matplotlib.pyplot as plt\n",
    "import cv2 \n",
    "import os\n",
    "import shutil\n",
    "from sklearn.model_selection import train_test_split\n",
    "from random import shuffle \n",
    "from tqdm import tqdm \n",
    "from PIL import Image\n",
    "import warnings\n",
    "warnings.filterwarnings('ignore')\n",
    "\n",
    "\n",
    "# The images were placed in four folders depending on if they were for testing\n",
    "# or training and if they contained a bat. The images were split 15% testing\n",
    "# and 85% training\n",
    "train_bat = \"bat_train\"\n",
    "train_no_bat= \"no_bat_train\""
   ]
  },
  {
   "cell_type": "code",
   "execution_count": null,
   "metadata": {},
   "outputs": [
    {
     "name": "stderr",
     "output_type": "stream",
     "text": [
      " 96%|████████████████████████████████████████████████████████████████████████▏  | 16107/16722 [00:58<00:02, 299.90it/s]"
     ]
    }
   ],
   "source": [
    "# All images were resized to 150 X 150. This can be changed depending on how much RAM is available\n",
    "image_size = 150\n",
    "\n",
    "# Converts training images to numpy arrays and preprocesses them\n",
    "def train_data():\n",
    "    train_data_bat = [] \n",
    "    train_data_no_bat=[]\n",
    "    for image1 in tqdm(os.listdir(train_bat)): \n",
    "        path = os.path.join(train_bat, image1)\n",
    "        img1 = cv2.imread(path, cv2.IMREAD_GRAYSCALE) \n",
    "        img1 = cv2.resize(img1, (image_size, image_size))\n",
    "        train_data_bat.append(img1) \n",
    "    for image2 in tqdm(os.listdir(train_no_bat)): \n",
    "        path = os.path.join(train_no_bat, image2)\n",
    "        img2 = cv2.imread(path, cv2.IMREAD_GRAYSCALE) \n",
    "        img2 = cv2.resize(img2, (image_size, image_size))\n",
    "        train_data_no_bat.append(img2) \n",
    "    \n",
    "    train_data= np.concatenate((np.asarray(train_data_bat),np.asarray(train_data_no_bat)),axis=0)\n",
    "    return train_data\n",
    "\n",
    "train_data = train_data()\n",
    "print(\"Processed training data\")"
   ]
  },
  {
   "cell_type": "code",
   "execution_count": 3,
   "metadata": {},
   "outputs": [],
   "source": [
    "x_data = train_data\n",
    "x_data = (x_data-np.min(x_data))/(np.max(x_data)-np.min(x_data))"
   ]
  },
  {
   "cell_type": "code",
   "execution_count": 5,
   "metadata": {},
   "outputs": [],
   "source": [
    "o1 = np.ones(16722)\n",
    "z1 = np.zeros(15010)\n",
    "Y_train = np.concatenate((o1, z1), axis=0)"
   ]
  },
  {
   "cell_type": "code",
   "execution_count": null,
   "metadata": {},
   "outputs": [],
   "source": [
    "y_data=np.asarray(Y_train).reshape(x_data.shape[0],1)\n",
    "print(\"X shape: \" , x_data.shape)\n",
    "print(\"Y shape: \" , y_data.shape)"
   ]
  },
  {
   "cell_type": "code",
   "execution_count": null,
   "metadata": {},
   "outputs": [],
   "source": [
    "# Split data\n",
    "\n",
    "x_train, x_test, y_train, y_test = train_test_split(x_data, y_data, test_size=0.15, random_state=42)\n",
    "number_of_train = x_train.shape[0]\n",
    "number_of_test = x_test.shape[0]"
   ]
  }
 ],
 "metadata": {
  "kernelspec": {
   "display_name": "Python 3",
   "language": "python",
   "name": "python3"
  },
  "language_info": {
   "codemirror_mode": {
    "name": "ipython",
    "version": 3
   },
   "file_extension": ".py",
   "mimetype": "text/x-python",
   "name": "python",
   "nbconvert_exporter": "python",
   "pygments_lexer": "ipython3",
   "version": "3.7.3"
  }
 },
 "nbformat": 4,
 "nbformat_minor": 2
}
