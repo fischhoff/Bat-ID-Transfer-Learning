{
 "cells": [
  {
   "cell_type": "code",
   "execution_count": 1,
   "metadata": {
    "colab": {},
    "colab_type": "code",
    "id": "aRm5f-aHYX6Z",
    "outputId": "7baa6de8-a0cc-4a8e-a6ce-60fe73b666a9"
   },
   "outputs": [
    {
     "name": "stderr",
     "output_type": "stream",
     "text": [
      "C:\\Users\\Zach\\Anaconda3\\envs\\py35\\lib\\site-packages\\h5py\\__init__.py:36: FutureWarning: Conversion of the second argument of issubdtype from `float` to `np.floating` is deprecated. In future, it will be treated as `np.float64 == np.dtype(float).type`.\n",
      "  from ._conv import register_converters as _register_converters\n",
      "Using TensorFlow backend.\n"
     ]
    },
    {
     "data": {
      "text/plain": [
       "'2.2.2'"
      ]
     },
     "execution_count": 1,
     "metadata": {},
     "output_type": "execute_result"
    }
   ],
   "source": [
    "import keras\n",
    "keras.__version__"
   ]
  },
  {
   "cell_type": "code",
   "execution_count": 2,
   "metadata": {
    "colab": {},
    "colab_type": "code",
    "id": "UTiAu-dOYX6f",
    "outputId": "8a85dadd-49a3-49ca-b515-897ee16a0cc6",
    "scrolled": true
   },
   "outputs": [
    {
     "name": "stdout",
     "output_type": "stream",
     "text": [
      "Created base_dir\n"
     ]
    }
   ],
   "source": [
    "#https://github.com/fchollet/deep-learning-with-python-notebooks/blob/master/5.2-using-convnets-with-small-datasets.ipynb\n",
    "import os, shutil\n",
    "base_dir = 'bats_and_nobats'\n",
    "\n",
    "fileList = os.listdir()\n",
    "type(fileList)\n",
    "if base_dir in fileList:\n",
    "    print(\"True\")\n",
    "else: \n",
    "    os.mkdir(base_dir)\n",
    "    print(\"Created base_dir\")"
   ]
  },
  {
   "cell_type": "code",
   "execution_count": 3,
   "metadata": {
    "colab": {},
    "colab_type": "code",
    "id": "ZphwVr52YX6j"
   },
   "outputs": [
    {
     "ename": "FileNotFoundError",
     "evalue": "[Errno 2] No such file or directory: 'train\\\\bat.1.jpg'",
     "output_type": "error",
     "traceback": [
      "\u001b[1;31m---------------------------------------------------------------------------\u001b[0m",
      "\u001b[1;31mFileNotFoundError\u001b[0m                         Traceback (most recent call last)",
      "\u001b[1;32m<ipython-input-3-452280895852>\u001b[0m in \u001b[0;36m<module>\u001b[1;34m()\u001b[0m\n\u001b[0;32m     46\u001b[0m     \u001b[0msrc\u001b[0m \u001b[1;33m=\u001b[0m \u001b[0mos\u001b[0m\u001b[1;33m.\u001b[0m\u001b[0mpath\u001b[0m\u001b[1;33m.\u001b[0m\u001b[0mjoin\u001b[0m\u001b[1;33m(\u001b[0m\u001b[0moriginal_dataset_dir\u001b[0m\u001b[1;33m,\u001b[0m \u001b[0mfname\u001b[0m\u001b[1;33m)\u001b[0m\u001b[1;33m\u001b[0m\u001b[0m\n\u001b[0;32m     47\u001b[0m     \u001b[0mdst\u001b[0m \u001b[1;33m=\u001b[0m \u001b[0mos\u001b[0m\u001b[1;33m.\u001b[0m\u001b[0mpath\u001b[0m\u001b[1;33m.\u001b[0m\u001b[0mjoin\u001b[0m\u001b[1;33m(\u001b[0m\u001b[0mtrain_bat_dir\u001b[0m\u001b[1;33m,\u001b[0m \u001b[0mfname\u001b[0m\u001b[1;33m)\u001b[0m\u001b[1;33m\u001b[0m\u001b[0m\n\u001b[1;32m---> 48\u001b[1;33m     \u001b[0mshutil\u001b[0m\u001b[1;33m.\u001b[0m\u001b[0mcopyfile\u001b[0m\u001b[1;33m(\u001b[0m\u001b[0msrc\u001b[0m\u001b[1;33m,\u001b[0m \u001b[0mdst\u001b[0m\u001b[1;33m)\u001b[0m\u001b[1;33m\u001b[0m\u001b[0m\n\u001b[0m\u001b[0;32m     49\u001b[0m \u001b[1;33m\u001b[0m\u001b[0m\n\u001b[0;32m     50\u001b[0m \u001b[1;31m# Copy next bat images to validation_bat_dir\u001b[0m\u001b[1;33m\u001b[0m\u001b[1;33m\u001b[0m\u001b[0m\n",
      "\u001b[1;32m~\\Anaconda3\\envs\\py35\\lib\\shutil.py\u001b[0m in \u001b[0;36mcopyfile\u001b[1;34m(src, dst, follow_symlinks)\u001b[0m\n\u001b[0;32m    118\u001b[0m         \u001b[0mos\u001b[0m\u001b[1;33m.\u001b[0m\u001b[0msymlink\u001b[0m\u001b[1;33m(\u001b[0m\u001b[0mos\u001b[0m\u001b[1;33m.\u001b[0m\u001b[0mreadlink\u001b[0m\u001b[1;33m(\u001b[0m\u001b[0msrc\u001b[0m\u001b[1;33m)\u001b[0m\u001b[1;33m,\u001b[0m \u001b[0mdst\u001b[0m\u001b[1;33m)\u001b[0m\u001b[1;33m\u001b[0m\u001b[0m\n\u001b[0;32m    119\u001b[0m     \u001b[1;32melse\u001b[0m\u001b[1;33m:\u001b[0m\u001b[1;33m\u001b[0m\u001b[0m\n\u001b[1;32m--> 120\u001b[1;33m         \u001b[1;32mwith\u001b[0m \u001b[0mopen\u001b[0m\u001b[1;33m(\u001b[0m\u001b[0msrc\u001b[0m\u001b[1;33m,\u001b[0m \u001b[1;34m'rb'\u001b[0m\u001b[1;33m)\u001b[0m \u001b[1;32mas\u001b[0m \u001b[0mfsrc\u001b[0m\u001b[1;33m:\u001b[0m\u001b[1;33m\u001b[0m\u001b[0m\n\u001b[0m\u001b[0;32m    121\u001b[0m             \u001b[1;32mwith\u001b[0m \u001b[0mopen\u001b[0m\u001b[1;33m(\u001b[0m\u001b[0mdst\u001b[0m\u001b[1;33m,\u001b[0m \u001b[1;34m'wb'\u001b[0m\u001b[1;33m)\u001b[0m \u001b[1;32mas\u001b[0m \u001b[0mfdst\u001b[0m\u001b[1;33m:\u001b[0m\u001b[1;33m\u001b[0m\u001b[0m\n\u001b[0;32m    122\u001b[0m                 \u001b[0mcopyfileobj\u001b[0m\u001b[1;33m(\u001b[0m\u001b[0mfsrc\u001b[0m\u001b[1;33m,\u001b[0m \u001b[0mfdst\u001b[0m\u001b[1;33m)\u001b[0m\u001b[1;33m\u001b[0m\u001b[0m\n",
      "\u001b[1;31mFileNotFoundError\u001b[0m: [Errno 2] No such file or directory: 'train\\\\bat.1.jpg'"
     ]
    }
   ],
   "source": [
    "#Move files around\n",
    "# The path to the directory where the original\n",
    "# dataset was uncompressed\n",
    "original_dataset_dir = 'train'\n",
    "# The directory where we will\n",
    "# store our smaller dataset\n",
    "#os.mkdir(base_dir)\n",
    "\n",
    "# Directories for our training,\n",
    "# validation and test splits\n",
    "train_dir = os.path.join(base_dir, 'train')\n",
    "os.mkdir(train_dir)\n",
    "validation_dir = os.path.join(base_dir, 'validation')\n",
    "os.mkdir(validation_dir)\n",
    "test_dir = os.path.join(base_dir, 'test')\n",
    "os.mkdir(test_dir)\n",
    "\n",
    "# Directory with our training cat pictures\n",
    "train_bat_dir = os.path.join(train_dir, 'bat')\n",
    "os.mkdir(train_bat_dir)\n",
    "\n",
    "# Directory with our training dog pictures\n",
    "train_no_bat_dir = os.path.join(train_dir, 'no_bat')\n",
    "os.mkdir(train_no_bat_dir)\n",
    "\n",
    "# Directory with our validation cat pictures\n",
    "validation_bat_dir = os.path.join(validation_dir, 'bat')\n",
    "os.mkdir(validation_bat_dir)\n",
    "\n",
    "# Directory with our validation dog pictures\n",
    "validation_no_bat_dir = os.path.join(validation_dir, 'no_bat')\n",
    "os.mkdir(validation_no_bat_dir)\n",
    "\n",
    "# Directory with our validation cat pictures\n",
    "test_bat_dir = os.path.join(test_dir, 'bat')\n",
    "os.mkdir(test_bat_dir)\n",
    "\n",
    "# Directory with our validation dog pictures\n",
    "test_no_bat_dir = os.path.join(test_dir, 'no_bat')\n",
    "os.mkdir(test_no_bat_dir)\n",
    "\n",
    "# Copy first 270 bat images to train_bat_dir\n",
    "#fnames = ['bat.{}.jpg'.format(i) for i in range(1,270)]\n",
    "fnames = ['bat.{}.jpg'.format(i) for i in range(1,10)]\n",
    "for fname in fnames:\n",
    "    src = os.path.join(original_dataset_dir, fname)\n",
    "    dst = os.path.join(train_bat_dir, fname)\n",
    "    shutil.copyfile(src, dst)\n",
    "\n",
    "# Copy next bat images to validation_bat_dir\n",
    "#fnames = ['bat.{}.jpg'.format(i) for i in range(271, 406)]\n",
    "fnames = ['bat.{}.jpg'.format(i) for i in range(11,20)]\n",
    "for fname in fnames:\n",
    "    src = os.path.join(original_dataset_dir, fname)\n",
    "    dst = os.path.join(validation_bat_dir, fname)\n",
    "    shutil.copyfile(src, dst)\n",
    "    \n",
    "# Copy next bat images to test_bat_dir\n",
    "#fnames = ['bat.{}.jpg'.format(i) for i in range(407, 541)]\n",
    "fnames = ['bat.{}.jpg'.format(i) for i in range(21, 30)]\n",
    "\n",
    "for fname in fnames:\n",
    "    src = os.path.join(original_dataset_dir, fname)\n",
    "    dst = os.path.join(test_bat_dir, fname)\n",
    "    shutil.copyfile(src, dst)\n",
    "    \n",
    "# Copy first 803 no_bat images to train_no_bat_dir\n",
    "#fnames = ['no_bat.{}.jpg'.format(i) for i in range(1,803)]\n",
    "fnames = ['no_bat.{}.jpg'.format(i) for i in range(1,10)]\n",
    "\n",
    "for fname in fnames:\n",
    "    src = os.path.join(original_dataset_dir, fname)\n",
    "    dst = os.path.join(train_no_bat_dir, fname)\n",
    "    shutil.copyfile(src, dst)\n",
    "    \n",
    "# Copy next no_bat images to validation_no_bat_dir\n",
    "#fnames = ['no_bat.{}.jpg'.format(i) for i in range(804, 1354)]\n",
    "fnames = ['no_bat.{}.jpg'.format(i) for i in range(11, 20)]\n",
    "\n",
    "for fname in fnames:\n",
    "    src = os.path.join(original_dataset_dir, fname)\n",
    "    dst = os.path.join(validation_no_bat_dir, fname)\n",
    "    shutil.copyfile(src, dst)\n",
    "    \n",
    "# Copy next no_bat images to test_no_bat_dir\n",
    "#fnames = ['no_bat.{}.jpg'.format(i) for i in range(1355, 1806)]\n",
    "fnames = ['no_bat.{}.jpg'.format(i) for i in range(21, 30 )]\n",
    "\n",
    "for fname in fnames:\n",
    "    src = os.path.join(original_dataset_dir, fname)\n",
    "    dst = os.path.join(test_no_bat_dir, fname)\n",
    "    shutil.copyfile(src, dst)\n"
   ]
  },
  {
   "cell_type": "code",
   "execution_count": 0,
   "metadata": {
    "colab": {},
    "colab_type": "code",
    "id": "fJGvPVTlYX6m",
    "outputId": "1bbbb824-4d6b-48d7-f98a-06d5b72ecaa8"
   },
   "outputs": [
    {
     "name": "stdout",
     "output_type": "stream",
     "text": [
      "WARNING:tensorflow:From C:\\ProgramData\\Anaconda3\\lib\\site-packages\\tensorflow\\python\\framework\\op_def_library.py:263: colocate_with (from tensorflow.python.framework.ops) is deprecated and will be removed in a future version.\n",
      "Instructions for updating:\n",
      "Colocations handled automatically by placer.\n"
     ]
    }
   ],
   "source": [
    "#build network\n",
    "from keras import layers\n",
    "from keras import models\n",
    "\n",
    "model = models.Sequential()\n",
    "model.add(layers.Conv2D(32, (3, 3), activation='relu',\n",
    "                        input_shape=(150, 150, 3)))\n",
    "model.add(layers.MaxPooling2D((2, 2)))\n",
    "model.add(layers.Conv2D(64, (3, 3), activation='relu'))\n",
    "model.add(layers.MaxPooling2D((2, 2)))\n",
    "model.add(layers.Conv2D(128, (3, 3), activation='relu'))\n",
    "model.add(layers.MaxPooling2D((2, 2)))\n",
    "model.add(layers.Conv2D(128, (3, 3), activation='relu'))\n",
    "model.add(layers.MaxPooling2D((2, 2)))\n",
    "model.add(layers.Flatten())\n",
    "model.add(layers.Dense(512, activation='relu'))\n",
    "model.add(layers.Dense(1, activation='sigmoid'))"
   ]
  },
  {
   "cell_type": "code",
   "execution_count": 0,
   "metadata": {
    "colab": {},
    "colab_type": "code",
    "id": "DqX3fHgxYX6p",
    "outputId": "4b7cbc0b-5782-4f86-da70-36ca331d1a38"
   },
   "outputs": [
    {
     "name": "stdout",
     "output_type": "stream",
     "text": [
      "_________________________________________________________________\n",
      "Layer (type)                 Output Shape              Param #   \n",
      "=================================================================\n",
      "conv2d_1 (Conv2D)            (None, 148, 148, 32)      896       \n",
      "_________________________________________________________________\n",
      "max_pooling2d_1 (MaxPooling2 (None, 74, 74, 32)        0         \n",
      "_________________________________________________________________\n",
      "conv2d_2 (Conv2D)            (None, 72, 72, 64)        18496     \n",
      "_________________________________________________________________\n",
      "max_pooling2d_2 (MaxPooling2 (None, 36, 36, 64)        0         \n",
      "_________________________________________________________________\n",
      "conv2d_3 (Conv2D)            (None, 34, 34, 128)       73856     \n",
      "_________________________________________________________________\n",
      "max_pooling2d_3 (MaxPooling2 (None, 17, 17, 128)       0         \n",
      "_________________________________________________________________\n",
      "conv2d_4 (Conv2D)            (None, 15, 15, 128)       147584    \n",
      "_________________________________________________________________\n",
      "max_pooling2d_4 (MaxPooling2 (None, 7, 7, 128)         0         \n",
      "_________________________________________________________________\n",
      "flatten_1 (Flatten)          (None, 6272)              0         \n",
      "_________________________________________________________________\n",
      "dense_1 (Dense)              (None, 512)               3211776   \n",
      "_________________________________________________________________\n",
      "dense_2 (Dense)              (None, 1)                 513       \n",
      "=================================================================\n",
      "Total params: 3,453,121\n",
      "Trainable params: 3,453,121\n",
      "Non-trainable params: 0\n",
      "_________________________________________________________________\n"
     ]
    }
   ],
   "source": [
    "model.summary()"
   ]
  },
  {
   "cell_type": "code",
   "execution_count": 0,
   "metadata": {
    "colab": {},
    "colab_type": "code",
    "id": "2mZlKxuzYX6t"
   },
   "outputs": [],
   "source": [
    "from keras import optimizers\n",
    "\n",
    "model.compile(loss='binary_crossentropy',\n",
    "              optimizer=optimizers.RMSprop(lr=1e-4),\n",
    "              metrics=['acc'])"
   ]
  },
  {
   "cell_type": "code",
   "execution_count": 0,
   "metadata": {
    "colab": {},
    "colab_type": "code",
    "id": "cIi1EBHaYX6v",
    "outputId": "46583b7e-8cb1-4da4-ba99-8dbcaedbc754"
   },
   "outputs": [
    {
     "name": "stdout",
     "output_type": "stream",
     "text": [
      "Found 18 images belonging to 2 classes.\n",
      "Found 18 images belonging to 2 classes.\n"
     ]
    }
   ],
   "source": [
    "#data preprocessing\n",
    "batch_size = 1\n",
    "from keras.preprocessing.image import ImageDataGenerator\n",
    "\n",
    "# All images will be rescaled by 1./255\n",
    "train_datagen = ImageDataGenerator(rescale=1./255)\n",
    "test_datagen = ImageDataGenerator(rescale=1./255)\n",
    "\n",
    "train_generator = train_datagen.flow_from_directory(\n",
    "        # This is the target directory\n",
    "        train_dir,\n",
    "        # All images will be resized to 150x150\n",
    "        target_size=(150, 150),\n",
    "        batch_size=batch_size,\n",
    "        # Since we use binary_crossentropy loss, we need binary labels\n",
    "        class_mode='binary')\n",
    "\n",
    "validation_generator = test_datagen.flow_from_directory(\n",
    "        validation_dir,\n",
    "        target_size=(150, 150),\n",
    "        batch_size=batch_size,\n",
    "        class_mode='binary')"
   ]
  },
  {
   "cell_type": "code",
   "execution_count": 0,
   "metadata": {
    "colab": {},
    "colab_type": "code",
    "id": "AATEWrdWYX6z",
    "outputId": "06e20a99-2c2b-4dde-a8e5-8528fe046c72"
   },
   "outputs": [
    {
     "name": "stdout",
     "output_type": "stream",
     "text": [
      "WARNING:tensorflow:From C:\\ProgramData\\Anaconda3\\lib\\site-packages\\tensorflow\\python\\ops\\math_ops.py:3066: to_int32 (from tensorflow.python.ops.math_ops) is deprecated and will be removed in a future version.\n",
      "Instructions for updating:\n",
      "Use tf.cast instead.\n",
      "Epoch 1/30\n",
      "100/100 [==============================] - 8s 76ms/step - loss: 0.4425 - acc: 0.8400 - val_loss: 0.0179 - val_acc: 1.0000\n",
      "Epoch 2/30\n",
      "100/100 [==============================] - 7s 68ms/step - loss: 0.0030 - acc: 1.0000 - val_loss: 4.4038e-05 - val_acc: 1.0000\n",
      "Epoch 3/30\n",
      "100/100 [==============================] - 7s 67ms/step - loss: 3.5964e-06 - acc: 1.0000 - val_loss: 1.5014e-07 - val_acc: 1.0000\n",
      "Epoch 4/30\n",
      "100/100 [==============================] - 7s 68ms/step - loss: 1.1557e-07 - acc: 1.0000 - val_loss: 1.0922e-07 - val_acc: 1.0000\n",
      "Epoch 5/30\n",
      "100/100 [==============================] - 7s 67ms/step - loss: 1.0999e-07 - acc: 1.0000 - val_loss: 1.0999e-07 - val_acc: 1.0000\n",
      "Epoch 6/30\n",
      "100/100 [==============================] - 7s 68ms/step - loss: 1.0941e-07 - acc: 1.0000 - val_loss: 1.0922e-07 - val_acc: 1.0000\n",
      "Epoch 7/30\n",
      "100/100 [==============================] - 7s 67ms/step - loss: 1.0941e-07 - acc: 1.0000 - val_loss: 1.0999e-07 - val_acc: 1.0000\n",
      "Epoch 8/30\n",
      "100/100 [==============================] - 7s 66ms/step - loss: 1.0960e-07 - acc: 1.0000 - val_loss: 1.0922e-07 - val_acc: 1.0000\n",
      "Epoch 9/30\n",
      "100/100 [==============================] - 7s 67ms/step - loss: 1.0980e-07 - acc: 1.0000 - val_loss: 1.0960e-07 - val_acc: 1.0000\n",
      "Epoch 10/30\n",
      "100/100 [==============================] - 7s 66ms/step - loss: 1.0941e-07 - acc: 1.0000 - val_loss: 1.0922e-07 - val_acc: 1.0000\n",
      "Epoch 11/30\n",
      "100/100 [==============================] - 7s 67ms/step - loss: 1.0960e-07 - acc: 1.0000 - val_loss: 1.0960e-07 - val_acc: 1.0000\n",
      "Epoch 12/30\n",
      "100/100 [==============================] - 7s 68ms/step - loss: 1.0980e-07 - acc: 1.0000 - val_loss: 1.0999e-07 - val_acc: 1.0000\n",
      "Epoch 13/30\n",
      "100/100 [==============================] - 7s 66ms/step - loss: 1.0960e-07 - acc: 1.0000 - val_loss: 1.0960e-07 - val_acc: 1.0000\n",
      "Epoch 14/30\n",
      "100/100 [==============================] - 7s 67ms/step - loss: 1.0960e-07 - acc: 1.0000 - val_loss: 1.0999e-07 - val_acc: 1.0000\n",
      "Epoch 15/30\n",
      "100/100 [==============================] - 7s 66ms/step - loss: 1.0922e-07 - acc: 1.0000 - val_loss: 1.0960e-07 - val_acc: 1.0000\n",
      "Epoch 16/30\n",
      "100/100 [==============================] - 7s 67ms/step - loss: 1.0999e-07 - acc: 1.0000 - val_loss: 1.0884e-07 - val_acc: 1.0000\n",
      "Epoch 17/30\n",
      "100/100 [==============================] - 7s 66ms/step - loss: 1.0941e-07 - acc: 1.0000 - val_loss: 1.0960e-07 - val_acc: 1.0000\n",
      "Epoch 18/30\n",
      "100/100 [==============================] - 7s 66ms/step - loss: 1.0980e-07 - acc: 1.0000 - val_loss: 1.0999e-07 - val_acc: 1.0000\n",
      "Epoch 19/30\n",
      "100/100 [==============================] - 7s 67ms/step - loss: 1.0980e-07 - acc: 1.0000 - val_loss: 1.0960e-07 - val_acc: 1.0000\n",
      "Epoch 20/30\n",
      "100/100 [==============================] - 7s 67ms/step - loss: 1.0941e-07 - acc: 1.0000 - val_loss: 1.0960e-07 - val_acc: 1.0000\n",
      "Epoch 21/30\n",
      "100/100 [==============================] - 7s 66ms/step - loss: 1.0941e-07 - acc: 1.0000 - val_loss: 1.0999e-07 - val_acc: 1.0000\n",
      "Epoch 22/30\n",
      "100/100 [==============================] - 7s 67ms/step - loss: 1.0980e-07 - acc: 1.0000 - val_loss: 1.0922e-07 - val_acc: 1.0000\n",
      "Epoch 23/30\n",
      "100/100 [==============================] - 7s 66ms/step - loss: 1.0980e-07 - acc: 1.0000 - val_loss: 1.0999e-07 - val_acc: 1.0000\n",
      "Epoch 24/30\n",
      "100/100 [==============================] - 7s 67ms/step - loss: 1.0980e-07 - acc: 1.0000 - val_loss: 1.0960e-07 - val_acc: 1.0000\n",
      "Epoch 25/30\n",
      "100/100 [==============================] - 7s 66ms/step - loss: 1.0903e-07 - acc: 1.0000 - val_loss: 1.0845e-07 - val_acc: 1.0000 0s - loss: 1.0920e-07 - acc: 1\n",
      "Epoch 26/30\n",
      "100/100 [==============================] - 7s 66ms/step - loss: 1.0980e-07 - acc: 1.0000 - val_loss: 1.1076e-07 - val_acc: 1.0000\n",
      "Epoch 27/30\n",
      "100/100 [==============================] - 7s 67ms/step - loss: 1.0960e-07 - acc: 1.0000 - val_loss: 1.0922e-07 - val_acc: 1.0000\n",
      "Epoch 28/30\n",
      "100/100 [==============================] - 7s 67ms/step - loss: 1.0960e-07 - acc: 1.0000 - val_loss: 1.0922e-07 - val_acc: 1.0000- \n",
      "Epoch 29/30\n",
      "100/100 [==============================] - 7s 66ms/step - loss: 1.0941e-07 - acc: 1.0000 - val_loss: 1.0999e-07 - val_acc: 1.0000\n",
      "Epoch 30/30\n",
      "100/100 [==============================] - 7s 66ms/step - loss: 1.1018e-07 - acc: 1.0000 - val_loss: 1.0999e-07 - val_acc: 1.0000\n"
     ]
    }
   ],
   "source": [
    "#fit model\n",
    "history = model.fit_generator(\n",
    "      train_generator,\n",
    "      steps_per_epoch=100,\n",
    "      epochs=30,\n",
    "      validation_data=validation_generator,\n",
    "      validation_steps=50)"
   ]
  },
  {
   "cell_type": "code",
   "execution_count": 0,
   "metadata": {
    "colab": {},
    "colab_type": "code",
    "id": "zbH479CpYX63",
    "outputId": "70eef81c-047e-4eb5-fba0-0ff27d3a1962"
   },
   "outputs": [
    {
     "data": {
      "image/png": "[encoded data removed]",
      "text/plain": [
       "<Figure size 432x288 with 1 Axes>"
      ]
     },
     "metadata": {
      "tags": []
     },
     "output_type": "display_data"
    },
    {
     "data": {
      "image/png": "[encoded data removed]",
      "text/plain": [
       "<Figure size 432x288 with 1 Axes>"
      ]
     },
     "metadata": {
      "tags": []
     },
     "output_type": "display_data"
    },
    {
     "data": {
      "text/plain": [
       "<module 'matplotlib.pyplot' from 'C:\\\\ProgramData\\\\Anaconda3\\\\lib\\\\site-packages\\\\matplotlib\\\\pyplot.py'>"
      ]
     },
     "execution_count": 13,
     "metadata": {
      "tags": []
     },
     "output_type": "execute_result"
    }
   ],
   "source": [
    "#plot accuracy\n",
    "import matplotlib.pyplot as plt\n",
    "\n",
    "acc = history.history['acc']\n",
    "val_acc = history.history['val_acc']\n",
    "loss = history.history['loss']\n",
    "val_loss = history.history['val_loss']\n",
    "\n",
    "epochs = range(len(acc))\n",
    "\n",
    "plt.plot(epochs, acc, 'bo', label='Training acc')\n",
    "plt.plot(epochs, val_acc, 'b', label='Validation acc')\n",
    "plt.title('Training and validation accuracy')\n",
    "plt.legend()\n",
    "\n",
    "plt.figure()\n",
    "\n",
    "plt.plot(epochs, loss, 'bo', label='Training loss')\n",
    "plt.plot(epochs, val_loss, 'b', label='Validation loss')\n",
    "plt.title('Training and validation loss')\n",
    "plt.legend()\n",
    "\n",
    "plt.show()\n",
    "plt"
   ]
  },
  {
   "cell_type": "code",
   "execution_count": 0,
   "metadata": {
    "colab": {},
    "colab_type": "code",
    "id": "5CAvQ3sJYX67",
    "outputId": "014dd06b-8a31-45a1-f208-2334074f16d3"
   },
   "outputs": [
    {
     "name": "stdout",
     "output_type": "stream",
     "text": [
      "Found 18 images belonging to 1 classes.\n"
     ]
    },
    {
     "data": {
      "text/plain": [
       "array([[4.5510227e-08],\n",
       "       [4.8404370e-08],\n",
       "       [5.0917730e-08],\n",
       "       [4.8909886e-08],\n",
       "       [5.8919102e-08],\n",
       "       [7.1409971e-08],\n",
       "       [4.6768783e-08],\n",
       "       [6.5903876e-08],\n",
       "       [5.1591783e-08],\n",
       "       [1.0000000e+00],\n",
       "       [1.0000000e+00],\n",
       "       [1.0000000e+00],\n",
       "       [1.0000000e+00],\n",
       "       [1.0000000e+00],\n",
       "       [1.0000000e+00],\n",
       "       [1.0000000e+00],\n",
       "       [1.0000000e+00],\n",
       "       [1.0000000e+00]], dtype=float32)"
      ]
     },
     "execution_count": 17,
     "metadata": {
      "tags": []
     },
     "output_type": "execute_result"
    }
   ],
   "source": [
    "#make predictions on training images of bats\n",
    "#now try making predictions on train images\n",
    "#Put one image into folder test1image\n",
    "#images need to be in folder within folder test_dir to be found by flow_from_directory\n",
    "#https://github.com/keras-team/keras/issues/3946\n",
    "test_dir = \"train_bat\"\n",
    "#bat.1 through bat.9 from train set. \n",
    "num_test_images = 18\n",
    "\n",
    "#test_datagen = ImageDataGenerator(\n",
    "#    rescale=1. / 255)\n",
    "test_generator = test_datagen.flow_from_directory(\n",
    "        test_dir,\n",
    "        target_size=(150, 150),\n",
    "        batch_size=1,\n",
    "        class_mode='binary', \n",
    "shuffle = False)\n",
    "\n",
    "#y = model_test.predict_generator(test_generator, steps=num_test_images, \n",
    "#                       verbose =1)\n",
    "#version without loading model\n",
    "y = model.predict_generator(test_generator, steps=num_test_images)\n",
    "import numpy as np\n",
    "np.histogram(y)\n",
    "y"
   ]
  },
  {
   "cell_type": "code",
   "execution_count": 0,
   "metadata": {
    "colab": {},
    "colab_type": "code",
    "id": "l2voO4ukYX6_",
    "outputId": "483ca44e-7039-42b2-fbe6-9c58e72a8f52"
   },
   "outputs": [
    {
     "name": "stdout",
     "output_type": "stream",
     "text": [
      "Created base_dir\n"
     ]
    }
   ],
   "source": [
    "#now try with more images\n",
    "#https://github.com/fchollet/deep-learning-with-python-notebooks/blob/master/5.2-using-convnets-with-small-datasets.ipynb\n",
    "import os, shutil\n",
    "base_dir = 'bats_and_nobats_more_images'\n",
    "\n",
    "fileList = os.listdir()\n",
    "type(fileList)\n",
    "if base_dir in fileList:\n",
    "    print(\"True\")\n",
    "else: \n",
    "    os.mkdir(base_dir)\n",
    "    print(\"Created base_dir\")"
   ]
  },
  {
   "cell_type": "code",
   "execution_count": 0,
   "metadata": {
    "colab": {},
    "colab_type": "code",
    "id": "hkkg4jqbYX7C"
   },
   "outputs": [],
   "source": [
    "#Move files around\n",
    "# The path to the directory where the original\n",
    "# dataset was uncompressed\n",
    "original_dataset_dir = 'train'\n",
    "# The directory where we will\n",
    "# store our smaller dataset\n",
    "#os.mkdir(base_dir)\n",
    "\n",
    "# Directories for our training,\n",
    "# validation and test splits\n",
    "train_dir = os.path.join(base_dir, 'train')\n",
    "os.mkdir(train_dir)\n",
    "validation_dir = os.path.join(base_dir, 'validation')\n",
    "os.mkdir(validation_dir)\n",
    "test_dir = os.path.join(base_dir, 'test')\n",
    "os.mkdir(test_dir)\n",
    "\n",
    "# Directory with our training cat pictures\n",
    "train_bat_dir = os.path.join(train_dir, 'bat')\n",
    "os.mkdir(train_bat_dir)\n",
    "\n",
    "# Directory with our training dog pictures\n",
    "train_no_bat_dir = os.path.join(train_dir, 'no_bat')\n",
    "os.mkdir(train_no_bat_dir)\n",
    "\n",
    "# Directory with our validation cat pictures\n",
    "validation_bat_dir = os.path.join(validation_dir, 'bat')\n",
    "os.mkdir(validation_bat_dir)\n",
    "\n",
    "# Directory with our validation dog pictures\n",
    "validation_no_bat_dir = os.path.join(validation_dir, 'no_bat')\n",
    "os.mkdir(validation_no_bat_dir)\n",
    "\n",
    "# Directory with our validation cat pictures\n",
    "test_bat_dir = os.path.join(test_dir, 'bat')\n",
    "os.mkdir(test_bat_dir)\n",
    "\n",
    "# Directory with our validation dog pictures\n",
    "test_no_bat_dir = os.path.join(test_dir, 'no_bat')\n",
    "os.mkdir(test_no_bat_dir)\n",
    "\n",
    "# Copy first 270 bat images to train_bat_dir\n",
    "fnames = ['bat.{}.jpg'.format(i) for i in range(1,270)]\n",
    "#fnames = ['bat.{}.jpg'.format(i) for i in range(1,10)]\n",
    "for fname in fnames:\n",
    "    src = os.path.join(original_dataset_dir, fname)\n",
    "    dst = os.path.join(train_bat_dir, fname)\n",
    "    shutil.copyfile(src, dst)\n",
    "\n",
    "# Copy next bat images to validation_bat_dir\n",
    "fnames = ['bat.{}.jpg'.format(i) for i in range(271, 406)]\n",
    "#fnames = ['bat.{}.jpg'.format(i) for i in range(11,20)]\n",
    "for fname in fnames:\n",
    "    src = os.path.join(original_dataset_dir, fname)\n",
    "    dst = os.path.join(validation_bat_dir, fname)\n",
    "    shutil.copyfile(src, dst)\n",
    "    \n",
    "# Copy next bat images to test_bat_dir\n",
    "fnames = ['bat.{}.jpg'.format(i) for i in range(407, 541)]\n",
    "#fnames = ['bat.{}.jpg'.format(i) for i in range(21, 30)]\n",
    "\n",
    "for fname in fnames:\n",
    "    src = os.path.join(original_dataset_dir, fname)\n",
    "    dst = os.path.join(test_bat_dir, fname)\n",
    "    shutil.copyfile(src, dst)\n",
    "    \n",
    "# Copy first 803 no_bat images to train_no_bat_dir\n",
    "#fnames = ['no_bat.{}.jpg'.format(i) for i in range(1,803)]\n",
    "fnames = ['no_bat.{}.jpg'.format(i) for i in range(1,270)]\n",
    "\n",
    "for fname in fnames:\n",
    "    src = os.path.join(original_dataset_dir, fname)\n",
    "    dst = os.path.join(train_no_bat_dir, fname)\n",
    "    shutil.copyfile(src, dst)\n",
    "    \n",
    "# Copy next no_bat images to validation_no_bat_dir\n",
    "#fnames = ['no_bat.{}.jpg'.format(i) for i in range(804, 1354)]\n",
    "fnames = ['no_bat.{}.jpg'.format(i) for i in range(271, 406)]\n",
    "\n",
    "for fname in fnames:\n",
    "    src = os.path.join(original_dataset_dir, fname)\n",
    "    dst = os.path.join(validation_no_bat_dir, fname)\n",
    "    shutil.copyfile(src, dst)\n",
    "    \n",
    "# Copy next no_bat images to test_no_bat_dir\n",
    "#fnames = ['no_bat.{}.jpg'.format(i) for i in range(1355, 1806)]\n",
    "fnames = ['no_bat.{}.jpg'.format(i) for i in range(407, 541)]\n",
    "\n",
    "for fname in fnames:\n",
    "    src = os.path.join(original_dataset_dir, fname)\n",
    "    dst = os.path.join(test_no_bat_dir, fname)\n",
    "    shutil.copyfile(src, dst)\n"
   ]
  },
  {
   "cell_type": "code",
   "execution_count": 0,
   "metadata": {
    "colab": {},
    "colab_type": "code",
    "id": "VGEvFlWLYX7E",
    "outputId": "bb94eabf-d567-4b3c-cf25-77de059e95f7"
   },
   "outputs": [
    {
     "name": "stdout",
     "output_type": "stream",
     "text": [
      "Epoch 1/30\n",
      "100/100 [==============================] - 7s 68ms/step - loss: 1.0960e-07 - acc: 1.0000 - val_loss: 1.0999e-07 - val_acc: 1.0000\n",
      "Epoch 2/30\n",
      "100/100 [==============================] - 7s 67ms/step - loss: 1.0941e-07 - acc: 1.0000 - val_loss: 1.0922e-07 - val_acc: 1.0000\n",
      "Epoch 3/30\n",
      "100/100 [==============================] - 7s 66ms/step - loss: 1.0980e-07 - acc: 1.0000 - val_loss: 1.0960e-07 - val_acc: 1.0000\n",
      "Epoch 4/30\n",
      "100/100 [==============================] - 7s 66ms/step - loss: 1.0941e-07 - acc: 1.0000 - val_loss: 1.0960e-07 - val_acc: 1.0000\n",
      "Epoch 5/30\n",
      "100/100 [==============================] - 7s 66ms/step - loss: 1.0980e-07 - acc: 1.0000 - val_loss: 1.0960e-07 - val_acc: 1.0000\n",
      "Epoch 6/30\n",
      "100/100 [==============================] - 7s 66ms/step - loss: 1.0941e-07 - acc: 1.0000 - val_loss: 1.0999e-07 - val_acc: 1.0000\n",
      "Epoch 7/30\n",
      "100/100 [==============================] - 7s 66ms/step - loss: 1.0960e-07 - acc: 1.0000 - val_loss: 1.0845e-07 - val_acc: 1.0000\n",
      "Epoch 8/30\n",
      "100/100 [==============================] - 7s 66ms/step - loss: 1.0980e-07 - acc: 1.0000 - val_loss: 1.0999e-07 - val_acc: 1.0000\n",
      "Epoch 9/30\n",
      "100/100 [==============================] - 7s 66ms/step - loss: 1.0960e-07 - acc: 1.0000 - val_loss: 1.0999e-07 - val_acc: 1.0000\n",
      "Epoch 10/30\n",
      "100/100 [==============================] - 7s 67ms/step - loss: 1.0941e-07 - acc: 1.0000 - val_loss: 1.0884e-07 - val_acc: 1.0000\n",
      "Epoch 11/30\n",
      "100/100 [==============================] - 7s 67ms/step - loss: 1.0999e-07 - acc: 1.0000 - val_loss: 1.1076e-07 - val_acc: 1.0000\n",
      "Epoch 12/30\n",
      "100/100 [==============================] - 7s 66ms/step - loss: 1.0941e-07 - acc: 1.0000 - val_loss: 1.0922e-07 - val_acc: 1.0000\n",
      "Epoch 13/30\n",
      "100/100 [==============================] - 7s 67ms/step - loss: 1.0980e-07 - acc: 1.0000 - val_loss: 1.0960e-07 - val_acc: 1.0000\n",
      "Epoch 14/30\n",
      "100/100 [==============================] - 7s 67ms/step - loss: 1.0922e-07 - acc: 1.0000 - val_loss: 1.0960e-07 - val_acc: 1.0000\n",
      "Epoch 15/30\n",
      "100/100 [==============================] - 7s 67ms/step - loss: 1.0941e-07 - acc: 1.0000 - val_loss: 1.0884e-07 - val_acc: 1.0000\n",
      "Epoch 16/30\n",
      "100/100 [==============================] - 7s 67ms/step - loss: 1.0999e-07 - acc: 1.0000 - val_loss: 1.1076e-07 - val_acc: 1.0000\n",
      "Epoch 17/30\n",
      "100/100 [==============================] - 7s 67ms/step - loss: 1.0922e-07 - acc: 1.0000 - val_loss: 1.0884e-07 - val_acc: 1.0000\n",
      "Epoch 18/30\n",
      "100/100 [==============================] - 7s 67ms/step - loss: 1.1037e-07 - acc: 1.0000 - val_loss: 1.0960e-07 - val_acc: 1.0000\n",
      "Epoch 19/30\n",
      "100/100 [==============================] - 7s 67ms/step - loss: 1.0922e-07 - acc: 1.0000 - val_loss: 1.0999e-07 - val_acc: 1.0000\n",
      "Epoch 20/30\n",
      "100/100 [==============================] - 7s 66ms/step - loss: 1.0941e-07 - acc: 1.0000 - val_loss: 1.0999e-07 - val_acc: 1.0000\n",
      "Epoch 21/30\n",
      "100/100 [==============================] - 7s 67ms/step - loss: 1.0960e-07 - acc: 1.0000 - val_loss: 1.0884e-07 - val_acc: 1.0000\n",
      "Epoch 22/30\n",
      "100/100 [==============================] - 7s 67ms/step - loss: 1.0941e-07 - acc: 1.0000 - val_loss: 1.0960e-07 - val_acc: 1.0000\n",
      "Epoch 23/30\n",
      "100/100 [==============================] - 7s 66ms/step - loss: 1.0980e-07 - acc: 1.0000 - val_loss: 1.0960e-07 - val_acc: 1.0000\n",
      "Epoch 24/30\n",
      "100/100 [==============================] - 7s 67ms/step - loss: 1.0960e-07 - acc: 1.0000 - val_loss: 1.0960e-07 - val_acc: 1.0000\n",
      "Epoch 25/30\n",
      "100/100 [==============================] - 7s 67ms/step - loss: 1.0999e-07 - acc: 1.0000 - val_loss: 1.0922e-07 - val_acc: 1.0000\n",
      "Epoch 26/30\n",
      "100/100 [==============================] - 7s 67ms/step - loss: 1.0903e-07 - acc: 1.0000 - val_loss: 1.1037e-07 - val_acc: 1.0000\n",
      "Epoch 27/30\n",
      "100/100 [==============================] - 7s 66ms/step - loss: 1.1018e-07 - acc: 1.0000 - val_loss: 1.0922e-07 - val_acc: 1.0000\n",
      "Epoch 28/30\n",
      "100/100 [==============================] - 7s 67ms/step - loss: 1.0941e-07 - acc: 1.0000 - val_loss: 1.0960e-07 - val_acc: 1.0000\n",
      "Epoch 29/30\n",
      "100/100 [==============================] - 7s 66ms/step - loss: 1.0941e-07 - acc: 1.0000 - val_loss: 1.1037e-07 - val_acc: 1.0000\n",
      "Epoch 30/30\n",
      "100/100 [==============================] - 7s 66ms/step - loss: 1.0980e-07 - acc: 1.0000 - val_loss: 1.0884e-07 - val_acc: 1.0000\n"
     ]
    }
   ],
   "source": [
    "#fit model\n",
    "history = model.fit_generator(\n",
    "      train_generator,\n",
    "      steps_per_epoch=100,\n",
    "      epochs=30,\n",
    "      validation_data=validation_generator,\n",
    "      validation_steps=50)"
   ]
  },
  {
   "cell_type": "code",
   "execution_count": 0,
   "metadata": {
    "colab": {},
    "colab_type": "code",
    "id": "70Jbp1EZYX7I",
    "outputId": "72856f13-40f8-4123-bdf1-2220fa9444b8"
   },
   "outputs": [
    {
     "data": {
      "image/png": "[encoded data removed]",
      "text/plain": [
       "<Figure size 432x288 with 1 Axes>"
      ]
     },
     "metadata": {
      "tags": []
     },
     "output_type": "display_data"
    },
    {
     "data": {
      "image/png": "[encoded data removed]",
      "text/plain": [
       "<Figure size 432x288 with 1 Axes>"
      ]
     },
     "metadata": {
      "tags": []
     },
     "output_type": "display_data"
    },
    {
     "data": {
      "text/plain": [
       "<module 'matplotlib.pyplot' from 'C:\\\\ProgramData\\\\Anaconda3\\\\lib\\\\site-packages\\\\matplotlib\\\\pyplot.py'>"
      ]
     },
     "execution_count": 23,
     "metadata": {
      "tags": []
     },
     "output_type": "execute_result"
    }
   ],
   "source": [
    "#plot accuracy\n",
    "import matplotlib.pyplot as plt\n",
    "\n",
    "acc = history.history['acc']\n",
    "val_acc = history.history['val_acc']\n",
    "loss = history.history['loss']\n",
    "val_loss = history.history['val_loss']\n",
    "\n",
    "epochs = range(len(acc))\n",
    "\n",
    "plt.plot(epochs, acc, 'bo', label='Training acc')\n",
    "plt.plot(epochs, val_acc, 'b', label='Validation acc')\n",
    "plt.title('Training and validation accuracy')\n",
    "plt.legend()\n",
    "\n",
    "plt.figure()\n",
    "\n",
    "plt.plot(epochs, loss, 'bo', label='Training loss')\n",
    "plt.plot(epochs, val_loss, 'b', label='Validation loss')\n",
    "plt.title('Training and validation loss')\n",
    "plt.legend()\n",
    "\n",
    "plt.show()\n",
    "plt"
   ]
  },
  {
   "cell_type": "code",
   "execution_count": 0,
   "metadata": {
    "colab": {},
    "colab_type": "code",
    "id": "cD_GLHg3YX7L",
    "outputId": "a3b46edf-8ef2-4cc9-bb12-1b2098b83aac"
   },
   "outputs": [
    {
     "name": "stdout",
     "output_type": "stream",
     "text": [
      "Found 18 images belonging to 1 classes.\n"
     ]
    },
    {
     "data": {
      "text/plain": [
       "array([[4.5510227e-08],\n",
       "       [4.8404370e-08],\n",
       "       [5.0917730e-08],\n",
       "       [4.8909886e-08],\n",
       "       [5.8919102e-08],\n",
       "       [7.1409971e-08],\n",
       "       [4.6768783e-08],\n",
       "       [6.5903876e-08],\n",
       "       [5.1591783e-08],\n",
       "       [1.0000000e+00],\n",
       "       [1.0000000e+00],\n",
       "       [1.0000000e+00],\n",
       "       [1.0000000e+00],\n",
       "       [1.0000000e+00],\n",
       "       [1.0000000e+00],\n",
       "       [1.0000000e+00],\n",
       "       [1.0000000e+00],\n",
       "       [1.0000000e+00]], dtype=float32)"
      ]
     },
     "execution_count": 22,
     "metadata": {
      "tags": []
     },
     "output_type": "execute_result"
    }
   ],
   "source": [
    "#make predictions on training images of bats\n",
    "#now try making predictions on train images\n",
    "#Put one image into folder test1image\n",
    "#images need to be in folder within folder test_dir to be found by flow_from_directory\n",
    "#https://github.com/keras-team/keras/issues/3946\n",
    "test_dir = \"train_bat\"\n",
    "#bat.1 through bat.9 from train set. \n",
    "num_test_images = 18\n",
    "\n",
    "#test_datagen = ImageDataGenerator(\n",
    "#    rescale=1. / 255)\n",
    "test_generator = test_datagen.flow_from_directory(\n",
    "        test_dir,\n",
    "        target_size=(150, 150),\n",
    "        batch_size=1,\n",
    "        class_mode='binary', \n",
    "shuffle = False)\n",
    "\n",
    "#y = model_test.predict_generator(test_generator, steps=num_test_images, \n",
    "#                       verbose =1)\n",
    "#version without loading model\n",
    "y = model.predict_generator(test_generator, steps=num_test_images)\n",
    "import numpy as np\n",
    "np.histogram(y)\n",
    "y"
   ]
  },
  {
   "cell_type": "code",
   "execution_count": 0,
   "metadata": {
    "colab": {},
    "colab_type": "code",
    "id": "IufGFXtgYX7Q"
   },
   "outputs": [],
   "source": []
  }
 ],
 "metadata": {
  "colab": {
   "name": "bats_scratch.ipynb",
   "provenance": [],
   "version": "0.3.2"
  },
  "kernelspec": {
   "display_name": "Python 3",
   "language": "python",
   "name": "python3"
  },
  "language_info": {
   "codemirror_mode": {
    "name": "ipython",
    "version": 3
   },
   "file_extension": ".py",
   "mimetype": "text/x-python",
   "name": "python",
   "nbconvert_exporter": "python",
   "pygments_lexer": "ipython3",
   "version": "3.5.5"
  }
 },
 "nbformat": 4,
 "nbformat_minor": 1
}
