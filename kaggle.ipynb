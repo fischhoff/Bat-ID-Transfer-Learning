{
 "cells": [
  {
   "cell_type": "code",
   "execution_count": 2,
   "metadata": {},
   "outputs": [],
   "source": [
    "import numpy as np\n",
    "import pandas as pd\n",
    "import matplotlib.pyplot as plt\n",
    "import cv2 \n",
    "import os\n",
    "import shutil\n",
    "from random import shuffle \n",
    "from tqdm import tqdm \n",
    "from PIL import Image\n",
    "import warnings\n",
    "warnings.filterwarnings('ignore')\n",
    "\n",
    "\n",
    "# The images were placed in four folders depending on if they were for testing\n",
    "# or training and if they contained a bat. The images were split 15% testing\n",
    "# and 85% training\n",
    "train_bat = \"bat_train\"\n",
    "train_no_bat= \"no_bat_train\"\n",
    "test_bat= \"bat_test\"\n",
    "test_no_bat= \"no_bat_test\""
   ]
  },
  {
   "cell_type": "code",
   "execution_count": 3,
   "metadata": {},
   "outputs": [
    {
     "name": "stderr",
     "output_type": "stream",
     "text": [
      "100%|███████████████████████████████████████████████████████████████████████████| 16722/16722 [00:57<00:00, 289.19it/s]\n",
      "100%|███████████████████████████████████████████████████████████████████████████| 15010/15010 [00:51<00:00, 291.99it/s]\n"
     ]
    },
    {
     "name": "stdout",
     "output_type": "stream",
     "text": [
      "Processed training data\n"
     ]
    },
    {
     "name": "stderr",
     "output_type": "stream",
     "text": [
      "100%|█████████████████████████████████████████████████████████████████████████████| 3759/3759 [00:14<00:00, 261.20it/s]\n",
      "100%|█████████████████████████████████████████████████████████████████████████████| 3864/3864 [00:12<00:00, 301.88it/s]\n"
     ]
    },
    {
     "name": "stdout",
     "output_type": "stream",
     "text": [
      "Processed test data\n"
     ]
    }
   ],
   "source": [
    "# All images were resized to 150 X 150. This can be changed depending on how much RAM is available\n",
    "image_size = 150\n",
    "\n",
    "# Converts training images to numpy arrays and preprocesses them\n",
    "def train_data():\n",
    "    train_data_bat = [] \n",
    "    train_data_no_bat=[]\n",
    "    for image1 in tqdm(os.listdir(train_bat)): \n",
    "        path = os.path.join(train_bat, image1)\n",
    "        img1 = cv2.imread(path, cv2.IMREAD_GRAYSCALE) \n",
    "        img1 = cv2.resize(img1, (image_size, image_size))\n",
    "        train_data_bat.append(img1) \n",
    "    for image2 in tqdm(os.listdir(train_no_bat)): \n",
    "        path = os.path.join(train_no_bat, image2)\n",
    "        img2 = cv2.imread(path, cv2.IMREAD_GRAYSCALE) \n",
    "        img2 = cv2.resize(img2, (image_size, image_size))\n",
    "        train_data_no_bat.append(img2) \n",
    "    \n",
    "    train_data= np.concatenate((np.asarray(train_data_bat),np.asarray(train_data_no_bat)),axis=0)\n",
    "    return train_data \n",
    "\n",
    "\n",
    "# Converts test images to numpy arrays and preprocesses them\n",
    "def test_data():\n",
    "    test_data_bat = [] \n",
    "    test_data_no_bat=[]\n",
    "    for image1 in tqdm(os.listdir(test_bat)): \n",
    "        path = os.path.join(test_bat, image1)\n",
    "        img1 = cv2.imread(path, cv2.IMREAD_GRAYSCALE) \n",
    "        img1 = cv2.resize(img1, (image_size, image_size))\n",
    "        test_data_bat.append(img1) \n",
    "    for image2 in tqdm(os.listdir(test_no_bat)): \n",
    "        path = os.path.join(test_no_bat, image2)\n",
    "        img2 = cv2.imread(path, cv2.IMREAD_GRAYSCALE) \n",
    "        img2 = cv2.resize(img2, (image_size, image_size))\n",
    "        test_data_no_bat.append(img2) \n",
    "    \n",
    "    test_data= np.concatenate((np.asarray(test_data_bat),np.asarray(test_data_no_bat)),axis=0) \n",
    "    return test_data \n",
    "\n",
    "train_data = train_data()\n",
    "print(\"Processed training data\")\n",
    "test_data = test_data()\n",
    "print(\"Processed test data\")"
   ]
  },
  {
   "cell_type": "code",
   "execution_count": 4,
   "metadata": {},
   "outputs": [],
   "source": [
    "# Normalize the images\n",
    "\n",
    "x_data=np.concatenate((train_data,test_data),axis=0)\n",
    "x_data = (x_data-np.min(x_data))/(np.max(x_data)-np.min(x_data))"
   ]
  },
  {
   "cell_type": "code",
   "execution_count": 5,
   "metadata": {},
   "outputs": [],
   "source": [
    "# Create the array of values\n",
    "\n",
    "o1 = np.ones(16722)\n",
    "z1 = np.zeros(15010)\n",
    "Y_train = np.concatenate((o1, z1), axis=0)\n",
    "o = np.ones(3759)\n",
    "z = np.zeros(3864)\n",
    "Y_test = np.concatenate((o, z), axis=0)"
   ]
  },
  {
   "cell_type": "code",
   "execution_count": 6,
   "metadata": {},
   "outputs": [
    {
     "name": "stdout",
     "output_type": "stream",
     "text": [
      "X shape:  (39355, 150, 150)\n",
      "Y shape:  (39355, 1)\n"
     ]
    }
   ],
   "source": [
    "# Reshape data\n",
    "\n",
    "y_data=np.concatenate((Y_train,Y_test),axis=0).reshape(x_data.shape[0],1)\n",
    "print(\"X shape: \" , x_data.shape)\n",
    "print(\"Y shape: \" , y_data.shape)"
   ]
  },
  {
   "cell_type": "code",
   "execution_count": 7,
   "metadata": {},
   "outputs": [],
   "source": [
    "# Split data\n",
    "\n",
    "from sklearn.model_selection import train_test_split\n",
    "x_train, x_test, y_train, y_test = train_test_split(x_data, y_data, test_size=0.15, random_state=42)\n",
    "number_of_train = x_train.shape[0]\n",
    "number_of_test = x_test.shape[0]"
   ]
  },
  {
   "cell_type": "code",
   "execution_count": 8,
   "metadata": {},
   "outputs": [
    {
     "name": "stdout",
     "output_type": "stream",
     "text": [
      "X train flatten (33451, 22500)\n",
      "X test flatten (5904, 22500)\n",
      "x train:  (22500, 33451)\n",
      "x test:  (22500, 5904)\n",
      "y train:  (1, 33451)\n",
      "y test:  (1, 5904)\n"
     ]
    }
   ],
   "source": [
    "# Reshape data\n",
    "\n",
    "x_train_flatten = x_train.reshape(number_of_train,x_train.shape[1]*x_train.shape[2])\n",
    "x_test_flatten = x_test .reshape(number_of_test,x_test.shape[1]*x_test.shape[2])\n",
    "print(\"X train flatten\",x_train_flatten.shape)\n",
    "print(\"X test flatten\",x_test_flatten.shape)\n",
    "x_train = x_train_flatten.T\n",
    "x_test = x_test_flatten.T\n",
    "y_test = y_test.T\n",
    "y_train = y_train.T\n",
    "print(\"x train: \",x_train.shape)\n",
    "print(\"x test: \",x_test.shape)\n",
    "print(\"y train: \",y_train.shape)\n",
    "print(\"y test: \",y_test.shape)"
   ]
  },
  {
   "cell_type": "code",
   "execution_count": 8,
   "metadata": {},
   "outputs": [],
   "source": [
    "# Define functions for logistic classification\n",
    "\n",
    "def initialize_weights_and_bias(dimension):\n",
    "    w = np.full((dimension,1),0.01)\n",
    "    b = 0.0\n",
    "    return w, b\n",
    "\n",
    "def sigmoid(z):\n",
    "    y_head = 1/(1+np.exp(-z))\n",
    "    return y_head\n",
    "\n",
    "def forward_backward_propagation(w,b,x_train,y_train):\n",
    "    # forward propagation\n",
    "    z = np.dot(w.T,x_train) + b\n",
    "    y_head = sigmoid(z)\n",
    "    loss = -y_train*np.log(y_head)-(1-y_train)*np.log(1-y_head)\n",
    "    cost = (np.sum(loss))/x_train.shape[1]\n",
    "    # backward propagation\n",
    "    derivative_weight = (np.dot(x_train,((y_head-y_train).T)))/x_train.shape[1]\n",
    "    derivative_bias = np.sum(y_head-y_train)/x_train.shape[1]\n",
    "    gradients = {\"derivative_weight\": derivative_weight,\"derivative_bias\": derivative_bias}\n",
    "    return cost,gradients\n",
    "\n",
    "def update(w, b, x_train, y_train, learning_rate,number_of_iterarion):\n",
    "    cost_list = []\n",
    "    cost_list2 = []\n",
    "    index = []\n",
    "    \n",
    "    for i in range(number_of_iterarion):\n",
    "        \n",
    "        cost,gradients = forward_backward_propagation(w,b,x_train,y_train)\n",
    "        cost_list.append(cost)\n",
    "        \n",
    "        w = w - learning_rate * gradients[\"derivative_weight\"]\n",
    "        b = b - learning_rate * gradients[\"derivative_bias\"]\n",
    "        if i % 100 == 0:\n",
    "            cost_list2.append(cost)\n",
    "            index.append(i)\n",
    "            print (\"Cost after iteration %i: %f\" %(i, cost))\n",
    "    \n",
    "    parameters = {\"weight\": w,\"bias\": b}\n",
    "    plt.plot(index,cost_list2)\n",
    "    plt.xticks(index,rotation='vertical')\n",
    "    plt.xlabel(\"Number of Iterarion\")\n",
    "    plt.ylabel(\"Cost\")\n",
    "    plt.show()\n",
    "    return parameters, gradients, cost_list\n",
    "\n",
    "def predict(w,b,x_test):\n",
    "    \n",
    "    z = sigmoid(np.dot(w.T,x_test)+b)\n",
    "    Y_prediction = np.zeros((1,x_test.shape[1]))\n",
    "\n",
    "    for i in range(z.shape[1]):\n",
    "        if z[0,i]<= 0.5:\n",
    "            Y_prediction[0,i] = 0\n",
    "        else:\n",
    "            Y_prediction[0,i] = 1\n",
    "\n",
    "    return Y_prediction\n",
    "\n",
    "def logistic_regression(x_train, y_train, x_test, y_test, learning_rate ,  num_iterations):\n",
    "\n",
    "    dimension =  x_train.shape[0]\n",
    "    w,b = initialize_weights_and_bias(dimension)\n",
    "\n",
    "    parameters, gradients, cost_list = update(w, b, x_train, y_train, learning_rate,num_iterations)\n",
    "    \n",
    "    y_prediction_test = predict(parameters[\"weight\"],parameters[\"bias\"],x_test)\n",
    "    y_prediction_train = predict(parameters[\"weight\"],parameters[\"bias\"],x_train)\n",
    "    \n",
    "    print(\"Test Accuracy: {} %\".format(round(100 - np.mean(np.abs(y_prediction_test - y_test)) * 100,2)))\n",
    "    print(\"Train Accuracy: {} %\".format(round(100 - np.mean(np.abs(y_prediction_train - y_train)) * 100,2)))\n",
    "    return parameters"
   ]
  },
  {
   "cell_type": "code",
   "execution_count": 9,
   "metadata": {
    "scrolled": true
   },
   "outputs": [
    {
     "name": "stdout",
     "output_type": "stream",
     "text": [
      "Cost after iteration 0: nan\n",
      "Cost after iteration 100: 0.331727\n",
      "Cost after iteration 200: 0.299754\n",
      "Cost after iteration 300: 0.282613\n",
      "Cost after iteration 400: 0.271495\n",
      "Cost after iteration 500: 0.263299\n",
      "Cost after iteration 600: 0.256815\n",
      "Cost after iteration 700: 0.251462\n",
      "Cost after iteration 800: 0.246913\n",
      "Cost after iteration 900: 0.242967\n",
      "Cost after iteration 1000: 0.239489\n",
      "Cost after iteration 1100: 0.236385\n",
      "Cost after iteration 1200: 0.233585\n",
      "Cost after iteration 1300: 0.231037\n",
      "Cost after iteration 1400: 0.228702\n"
     ]
    },
    {
     "data": {
      "image/png": "[encoded data removed]",
      "text/plain": [
       "<Figure size 432x288 with 1 Axes>"
      ]
     },
     "metadata": {
      "needs_background": "light"
     },
     "output_type": "display_data"
    },
    {
     "name": "stdout",
     "output_type": "stream",
     "text": [
      "Test Accuracy: 91.04 %\n",
      "Train Accuracy: 91.1 %\n"
     ]
    }
   ],
   "source": [
    "# Train model\n",
    "\n",
    "params = logistic_regression(x_train, y_train, x_test, y_test,learning_rate = 0.01, num_iterations = 1500)"
   ]
  },
  {
   "cell_type": "code",
   "execution_count": 13,
   "metadata": {},
   "outputs": [],
   "source": [
    "# The weights and bias of the trained model can be saved for later use\n",
    "\n",
    "np.savetxt(\"weights.csv\", params['weight'], delimiter=\",\")\n",
    "np.savetxt(\"bias.csv\", np.asarray([params['bias'], 0]), delimiter=\",\")\n",
    "\n",
    "h = h5py.File('weight.hdf5','w')\n",
    "protein_complex = mat['ProteinComplex'].tolist()\n"
   ]
  },
  {
   "cell_type": "code",
   "execution_count": 17,
   "metadata": {},
   "outputs": [
    {
     "name": "stdout",
     "output_type": "stream",
     "text": [
      "22500\n"
     ]
    }
   ],
   "source": [
    "print(x_train.shape[0])"
   ]
  },
  {
   "cell_type": "code",
   "execution_count": 20,
   "metadata": {},
   "outputs": [
    {
     "name": "stderr",
     "output_type": "stream",
     "text": [
      "100%|█████████████████████████████████████████████████████████████████████████████| 3156/3156 [00:07<00:00, 399.22it/s]\n"
     ]
    },
    {
     "name": "stdout",
     "output_type": "stream",
     "text": [
      "Processed training data\n"
     ]
    }
   ],
   "source": [
    "# Preprocess prediction images\n",
    "\n",
    "predict_images = \"prediction_images_renamed\"\n",
    "\n",
    "def predict_data():\n",
    "    test_data_bat = [] \n",
    "    test_data_no_bat=[]\n",
    "    for image1 in tqdm(os.listdir(predict_images)): \n",
    "        path = os.path.join(predict_images, image1)\n",
    "        img1 = cv2.imread(path, cv2.IMREAD_GRAYSCALE) \n",
    "        img1 = cv2.resize(img1, (image_size, image_size))\n",
    "        test_data_bat.append(img1) \n",
    "    \n",
    "    test_data= np.asarray(test_data_bat) \n",
    "    return test_data \n",
    "\n",
    "train_data = predict_data()\n",
    "print(\"Processed training data\")"
   ]
  },
  {
   "cell_type": "code",
   "execution_count": 21,
   "metadata": {},
   "outputs": [],
   "source": [
    "x_data = train_data\n",
    "x_data = (x_data-np.min(x_data))/(np.max(x_data)-np.min(x_data))"
   ]
  },
  {
   "cell_type": "code",
   "execution_count": 22,
   "metadata": {},
   "outputs": [],
   "source": [
    "x_train = x_data\n",
    "number_of_train = x_train.shape[0]\n",
    "x_train_flatten = x_train.reshape(number_of_train,x_train.shape[1]*x_train.shape[2])\n",
    "x_train = x_train_flatten.T"
   ]
  },
  {
   "cell_type": "code",
   "execution_count": 23,
   "metadata": {},
   "outputs": [],
   "source": [
    "# Make predictions\n",
    "\n",
    "predictions = predict(params[\"weight\"],params[\"bias\"],x_train)"
   ]
  },
  {
   "cell_type": "code",
   "execution_count": 29,
   "metadata": {},
   "outputs": [],
   "source": [
    "# Identify bat images\n",
    "\n",
    "one = []\n",
    "i = 1\n",
    "for num in predictions[0]:\n",
    "    if num > .5:\n",
    "        one.append(i)\n",
    "    i = i + 1"
   ]
  },
  {
   "cell_type": "code",
   "execution_count": null,
   "metadata": {},
   "outputs": [],
   "source": [
    "print(one)"
   ]
  },
  {
   "cell_type": "code",
   "execution_count": 28,
   "metadata": {},
   "outputs": [],
   "source": [
    "# Move bat images to different folder\n",
    "\n",
    "for name in one:\n",
    "    src = \"prediction_images_renamed\\\\\" + str(name) + \".jpg\"\n",
    "    dst = \"bat_select\\\\\" + str(name) + \".jpg\"\n",
    "    os.rename(src, dst)"
   ]
  },
  {
   "cell_type": "code",
   "execution_count": null,
   "metadata": {},
   "outputs": [],
   "source": [
    "from sklearn.linear_model import LogisticRegression\n",
    "logistic_regression=LogisticRegression(random_state=42)\n",
    "clf = logistic_regression.fit(x_train.T,y_train.T)"
   ]
  },
  {
   "cell_type": "code",
   "execution_count": null,
   "metadata": {},
   "outputs": [],
   "source": []
  }
 ],
 "metadata": {
  "kernelspec": {
   "display_name": "Python 3",
   "language": "python",
   "name": "python3"
  },
  "language_info": {
   "codemirror_mode": {
    "name": "ipython",
    "version": 3
   },
   "file_extension": ".py",
   "mimetype": "text/x-python",
   "name": "python",
   "nbconvert_exporter": "python",
   "pygments_lexer": "ipython3",
   "version": "3.6.8"
  }
 },
 "nbformat": 4,
 "nbformat_minor": 2
}
